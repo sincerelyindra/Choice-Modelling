{
 "cells": [
  {
   "cell_type": "code",
   "execution_count": 1,
   "id": "402a4572",
   "metadata": {
    "_cell_guid": "b1076dfc-b9ad-4769-8c92-a6c4dae69d19",
    "_uuid": "8f2839f25d086af736a60e9eeb907d3b93b6e0e5",
    "execution": {
     "iopub.execute_input": "2025-04-27T05:31:26.572816Z",
     "iopub.status.busy": "2025-04-27T05:31:26.572192Z",
     "iopub.status.idle": "2025-04-27T05:31:27.970124Z",
     "shell.execute_reply": "2025-04-27T05:31:27.969410Z"
    },
    "papermill": {
     "duration": 1.406743,
     "end_time": "2025-04-27T05:31:27.971255",
     "exception": false,
     "start_time": "2025-04-27T05:31:26.564512",
     "status": "completed"
    },
    "tags": []
   },
   "outputs": [
    {
     "name": "stdout",
     "output_type": "stream",
     "text": [
      "/kaggle/input/shill-bidding-dataset1/Shill Bidding Dataset.csv\n"
     ]
    }
   ],
   "source": [
    "# This Python 3 environment comes with many helpful analytics libraries installed\n",
    "# It is defined by the kaggle/python Docker image: https://github.com/kaggle/docker-python\n",
    "# For example, here's several helpful packages to load\n",
    "\n",
    "import numpy as np # linear algebra\n",
    "import pandas as pd # data processing, CSV file I/O (e.g. pd.read_csv)\n",
    "\n",
    "# Input data files are available in the read-only \"../input/\" directory\n",
    "# For example, running this (by clicking run or pressing Shift+Enter) will list all files under the input directory\n",
    "\n",
    "import os\n",
    "for dirname, _, filenames in os.walk('/kaggle/input'):\n",
    "    for filename in filenames:\n",
    "        print(os.path.join(dirname, filename))\n",
    "\n",
    "# You can write up to 20GB to the current directory (/kaggle/working/) that gets preserved as output when you create a version using \"Save & Run All\" \n",
    "# You can also write temporary files to /kaggle/temp/, but they won't be saved outside of the current session"
   ]
  },
  {
   "cell_type": "code",
   "execution_count": 2,
   "id": "31b20b49",
   "metadata": {
    "execution": {
     "iopub.execute_input": "2025-04-27T05:31:27.984218Z",
     "iopub.status.busy": "2025-04-27T05:31:27.983923Z",
     "iopub.status.idle": "2025-04-27T05:31:29.464959Z",
     "shell.execute_reply": "2025-04-27T05:31:29.464406Z"
    },
    "papermill": {
     "duration": 1.488726,
     "end_time": "2025-04-27T05:31:29.466258",
     "exception": false,
     "start_time": "2025-04-27T05:31:27.977532",
     "status": "completed"
    },
    "tags": []
   },
   "outputs": [],
   "source": [
    "import pandas as pd\n",
    "import numpy as np\n",
    "from pathlib import Path\n",
    "from sklearn.cluster import KMeans\n",
    "import pandas as pd, pathlib as pl"
   ]
  },
  {
   "cell_type": "markdown",
   "id": "64d68bd2",
   "metadata": {
    "papermill": {
     "duration": 0.00557,
     "end_time": "2025-04-27T05:31:29.478116",
     "exception": false,
     "start_time": "2025-04-27T05:31:29.472546",
     "status": "completed"
    },
    "tags": []
   },
   "source": [
    "# Shill Bidding Data Set"
   ]
  },
  {
   "cell_type": "code",
   "execution_count": 3,
   "id": "09a6b25b",
   "metadata": {
    "execution": {
     "iopub.execute_input": "2025-04-27T05:31:29.490479Z",
     "iopub.status.busy": "2025-04-27T05:31:29.490141Z",
     "iopub.status.idle": "2025-04-27T05:31:29.543773Z",
     "shell.execute_reply": "2025-04-27T05:31:29.543130Z"
    },
    "papermill": {
     "duration": 0.061147,
     "end_time": "2025-04-27T05:31:29.544883",
     "exception": false,
     "start_time": "2025-04-27T05:31:29.483736",
     "status": "completed"
    },
    "tags": []
   },
   "outputs": [
    {
     "data": {
      "text/html": [
       "<div>\n",
       "<style scoped>\n",
       "    .dataframe tbody tr th:only-of-type {\n",
       "        vertical-align: middle;\n",
       "    }\n",
       "\n",
       "    .dataframe tbody tr th {\n",
       "        vertical-align: top;\n",
       "    }\n",
       "\n",
       "    .dataframe thead th {\n",
       "        text-align: right;\n",
       "    }\n",
       "</style>\n",
       "<table border=\"1\" class=\"dataframe\">\n",
       "  <thead>\n",
       "    <tr style=\"text-align: right;\">\n",
       "      <th></th>\n",
       "      <th>Record_ID</th>\n",
       "      <th>Auction_ID</th>\n",
       "      <th>Bidder_ID</th>\n",
       "      <th>Bidder_Tendency</th>\n",
       "      <th>Bidding_Ratio</th>\n",
       "      <th>Successive_Outbidding</th>\n",
       "      <th>Last_Bidding</th>\n",
       "      <th>Auction_Bids</th>\n",
       "      <th>Starting_Price_Average</th>\n",
       "      <th>Early_Bidding</th>\n",
       "      <th>Winning_Ratio</th>\n",
       "      <th>Auction_Duration</th>\n",
       "      <th>Class</th>\n",
       "    </tr>\n",
       "  </thead>\n",
       "  <tbody>\n",
       "    <tr>\n",
       "      <th>0</th>\n",
       "      <td>1</td>\n",
       "      <td>732</td>\n",
       "      <td>_***i</td>\n",
       "      <td>0.200000</td>\n",
       "      <td>0.400000</td>\n",
       "      <td>0.0</td>\n",
       "      <td>0.000028</td>\n",
       "      <td>0.0</td>\n",
       "      <td>0.993593</td>\n",
       "      <td>0.000028</td>\n",
       "      <td>0.666667</td>\n",
       "      <td>5</td>\n",
       "      <td>0</td>\n",
       "    </tr>\n",
       "    <tr>\n",
       "      <th>1</th>\n",
       "      <td>2</td>\n",
       "      <td>732</td>\n",
       "      <td>g***r</td>\n",
       "      <td>0.024390</td>\n",
       "      <td>0.200000</td>\n",
       "      <td>0.0</td>\n",
       "      <td>0.013123</td>\n",
       "      <td>0.0</td>\n",
       "      <td>0.993593</td>\n",
       "      <td>0.013123</td>\n",
       "      <td>0.944444</td>\n",
       "      <td>5</td>\n",
       "      <td>0</td>\n",
       "    </tr>\n",
       "    <tr>\n",
       "      <th>2</th>\n",
       "      <td>3</td>\n",
       "      <td>732</td>\n",
       "      <td>t***p</td>\n",
       "      <td>0.142857</td>\n",
       "      <td>0.200000</td>\n",
       "      <td>0.0</td>\n",
       "      <td>0.003042</td>\n",
       "      <td>0.0</td>\n",
       "      <td>0.993593</td>\n",
       "      <td>0.003042</td>\n",
       "      <td>1.000000</td>\n",
       "      <td>5</td>\n",
       "      <td>0</td>\n",
       "    </tr>\n",
       "    <tr>\n",
       "      <th>3</th>\n",
       "      <td>4</td>\n",
       "      <td>732</td>\n",
       "      <td>7***n</td>\n",
       "      <td>0.100000</td>\n",
       "      <td>0.200000</td>\n",
       "      <td>0.0</td>\n",
       "      <td>0.097477</td>\n",
       "      <td>0.0</td>\n",
       "      <td>0.993593</td>\n",
       "      <td>0.097477</td>\n",
       "      <td>1.000000</td>\n",
       "      <td>5</td>\n",
       "      <td>0</td>\n",
       "    </tr>\n",
       "    <tr>\n",
       "      <th>4</th>\n",
       "      <td>5</td>\n",
       "      <td>900</td>\n",
       "      <td>z***z</td>\n",
       "      <td>0.051282</td>\n",
       "      <td>0.222222</td>\n",
       "      <td>0.0</td>\n",
       "      <td>0.001318</td>\n",
       "      <td>0.0</td>\n",
       "      <td>0.000000</td>\n",
       "      <td>0.001242</td>\n",
       "      <td>0.500000</td>\n",
       "      <td>7</td>\n",
       "      <td>0</td>\n",
       "    </tr>\n",
       "  </tbody>\n",
       "</table>\n",
       "</div>"
      ],
      "text/plain": [
       "   Record_ID  Auction_ID Bidder_ID  Bidder_Tendency  Bidding_Ratio  \\\n",
       "0          1         732     _***i         0.200000       0.400000   \n",
       "1          2         732     g***r         0.024390       0.200000   \n",
       "2          3         732     t***p         0.142857       0.200000   \n",
       "3          4         732     7***n         0.100000       0.200000   \n",
       "4          5         900     z***z         0.051282       0.222222   \n",
       "\n",
       "   Successive_Outbidding  Last_Bidding  Auction_Bids  Starting_Price_Average  \\\n",
       "0                    0.0      0.000028           0.0                0.993593   \n",
       "1                    0.0      0.013123           0.0                0.993593   \n",
       "2                    0.0      0.003042           0.0                0.993593   \n",
       "3                    0.0      0.097477           0.0                0.993593   \n",
       "4                    0.0      0.001318           0.0                0.000000   \n",
       "\n",
       "   Early_Bidding  Winning_Ratio  Auction_Duration  Class  \n",
       "0       0.000028       0.666667                 5      0  \n",
       "1       0.013123       0.944444                 5      0  \n",
       "2       0.003042       1.000000                 5      0  \n",
       "3       0.097477       1.000000                 5      0  \n",
       "4       0.001242       0.500000                 7      0  "
      ]
     },
     "execution_count": 3,
     "metadata": {},
     "output_type": "execute_result"
    }
   ],
   "source": [
    "\n",
    "DATA = pl.Path('/kaggle/input/shill-bidding-dataset1/Shill Bidding Dataset.csv')\n",
    "df = pd.read_csv(DATA)\n",
    "df.head()\n"
   ]
  },
  {
   "cell_type": "code",
   "execution_count": 4,
   "id": "7a535ff0",
   "metadata": {
    "execution": {
     "iopub.execute_input": "2025-04-27T05:31:29.558281Z",
     "iopub.status.busy": "2025-04-27T05:31:29.557743Z",
     "iopub.status.idle": "2025-04-27T05:31:29.629593Z",
     "shell.execute_reply": "2025-04-27T05:31:29.629002Z"
    },
    "papermill": {
     "duration": 0.079573,
     "end_time": "2025-04-27T05:31:29.630658",
     "exception": false,
     "start_time": "2025-04-27T05:31:29.551085",
     "status": "completed"
    },
    "tags": []
   },
   "outputs": [
    {
     "name": "stdout",
     "output_type": "stream",
     "text": [
      "✔︎  Fixed features saved to /kaggle/working/features_step3_fixed.csv\n"
     ]
    },
    {
     "data": {
      "text/html": [
       "<div>\n",
       "<style scoped>\n",
       "    .dataframe tbody tr th:only-of-type {\n",
       "        vertical-align: middle;\n",
       "    }\n",
       "\n",
       "    .dataframe tbody tr th {\n",
       "        vertical-align: top;\n",
       "    }\n",
       "\n",
       "    .dataframe thead th {\n",
       "        text-align: right;\n",
       "    }\n",
       "</style>\n",
       "<table border=\"1\" class=\"dataframe\">\n",
       "  <thead>\n",
       "    <tr style=\"text-align: right;\">\n",
       "      <th></th>\n",
       "      <th>Record_ID</th>\n",
       "      <th>Auction_ID</th>\n",
       "      <th>Bidder_ID</th>\n",
       "      <th>time_from_start_sec</th>\n",
       "      <th>time_to_close_sec</th>\n",
       "      <th>burstiness_rate</th>\n",
       "      <th>bid_count_share</th>\n",
       "      <th>win_ratio_running</th>\n",
       "      <th>exp_auctions</th>\n",
       "    </tr>\n",
       "  </thead>\n",
       "  <tbody>\n",
       "    <tr>\n",
       "      <th>3021</th>\n",
       "      <td>7205</td>\n",
       "      <td>311</td>\n",
       "      <td>*****</td>\n",
       "      <td>138546.000029</td>\n",
       "      <td>466253.999971</td>\n",
       "      <td>0.0</td>\n",
       "      <td>0.032258</td>\n",
       "      <td>0.0</td>\n",
       "      <td>0</td>\n",
       "    </tr>\n",
       "    <tr>\n",
       "      <th>5249</th>\n",
       "      <td>12560</td>\n",
       "      <td>161</td>\n",
       "      <td>*****</td>\n",
       "      <td>149676.999993</td>\n",
       "      <td>109523.000007</td>\n",
       "      <td>0.0</td>\n",
       "      <td>0.043478</td>\n",
       "      <td>0.0</td>\n",
       "      <td>1</td>\n",
       "    </tr>\n",
       "    <tr>\n",
       "      <th>5950</th>\n",
       "      <td>14260</td>\n",
       "      <td>330</td>\n",
       "      <td>*****</td>\n",
       "      <td>163020.999980</td>\n",
       "      <td>441779.000020</td>\n",
       "      <td>0.0</td>\n",
       "      <td>0.055556</td>\n",
       "      <td>0.0</td>\n",
       "      <td>2</td>\n",
       "    </tr>\n",
       "    <tr>\n",
       "      <th>1888</th>\n",
       "      <td>4516</td>\n",
       "      <td>899</td>\n",
       "      <td>****h</td>\n",
       "      <td>6.999998</td>\n",
       "      <td>431993.000002</td>\n",
       "      <td>0.0</td>\n",
       "      <td>0.200000</td>\n",
       "      <td>1.0</td>\n",
       "      <td>0</td>\n",
       "    </tr>\n",
       "    <tr>\n",
       "      <th>886</th>\n",
       "      <td>2062</td>\n",
       "      <td>224</td>\n",
       "      <td>****y</td>\n",
       "      <td>437565.999992</td>\n",
       "      <td>71275.000023</td>\n",
       "      <td>0.0</td>\n",
       "      <td>0.181818</td>\n",
       "      <td>1.0</td>\n",
       "      <td>0</td>\n",
       "    </tr>\n",
       "  </tbody>\n",
       "</table>\n",
       "</div>"
      ],
      "text/plain": [
       "      Record_ID  Auction_ID Bidder_ID  time_from_start_sec  time_to_close_sec  \\\n",
       "3021       7205         311     *****        138546.000029      466253.999971   \n",
       "5249      12560         161     *****        149676.999993      109523.000007   \n",
       "5950      14260         330     *****        163020.999980      441779.000020   \n",
       "1888       4516         899     ****h             6.999998      431993.000002   \n",
       "886        2062         224     ****y        437565.999992       71275.000023   \n",
       "\n",
       "      burstiness_rate  bid_count_share  win_ratio_running  exp_auctions  \n",
       "3021              0.0         0.032258                0.0             0  \n",
       "5249              0.0         0.043478                0.0             1  \n",
       "5950              0.0         0.055556                0.0             2  \n",
       "1888              0.0         0.200000                1.0             0  \n",
       "886               0.0         0.181818                1.0             0  "
      ]
     },
     "metadata": {},
     "output_type": "display_data"
    }
   ],
   "source": [
    "# 2 · Auction duration → seconds (days × 86400)\n",
    "df['auction_duration_sec'] = df['Auction_Duration'] * 24 * 3600\n",
    "\n",
    "# 3 · Timing features (fixed)\n",
    "#    - time_from_start_sec: when they first bid\n",
    "#    - time_to_close_sec:   how much time *remains* after their last bid\n",
    "df['time_from_start_sec'] = df['Early_Bidding'] * df['auction_duration_sec']\n",
    "df['time_to_close_sec']   = (1 - df['Last_Bidding']) * df['auction_duration_sec']\n",
    "\n",
    "# 4 · Burstiness & bid‑share\n",
    "df['burstiness_rate'] = df['Successive_Outbidding']\n",
    "df['bid_count_share'] = df['Bidding_Ratio']\n",
    "\n",
    "# 5 · Win orientation\n",
    "df['win_ratio_running'] = df['Winning_Ratio']\n",
    "\n",
    "# 6 · Experience (cum. auctions per bidder)\n",
    "df = df.sort_values(['Bidder_ID', 'Record_ID'])\n",
    "df['exp_auctions'] = df.groupby('Bidder_ID').cumcount()\n",
    "\n",
    "# 7 · Collect features\n",
    "feature_cols = [\n",
    "    'Record_ID','Auction_ID','Bidder_ID',\n",
    "    'time_from_start_sec','time_to_close_sec',\n",
    "    'burstiness_rate','bid_count_share',\n",
    "    'win_ratio_running','exp_auctions'\n",
    "]\n",
    "features = df[feature_cols]\n",
    "\n",
    "# 8 · Save & verify\n",
    "OUT = '/kaggle/working/features_step3_fixed.csv'\n",
    "features.to_csv(OUT, index=False)\n",
    "print(\"✔︎  Fixed features saved to\", OUT)\n",
    "display(features.head())"
   ]
  },
  {
   "cell_type": "markdown",
   "id": "5dc26426",
   "metadata": {
    "papermill": {
     "duration": 0.005939,
     "end_time": "2025-04-27T05:31:29.642889",
     "exception": false,
     "start_time": "2025-04-27T05:31:29.636950",
     "status": "completed"
    },
    "tags": []
   },
   "source": [
    "# Loading Engineered Features and Original Auction Bids"
   ]
  },
  {
   "cell_type": "code",
   "execution_count": 5,
   "id": "08c7e811",
   "metadata": {
    "execution": {
     "iopub.execute_input": "2025-04-27T05:31:29.656351Z",
     "iopub.status.busy": "2025-04-27T05:31:29.656132Z",
     "iopub.status.idle": "2025-04-27T05:31:29.684068Z",
     "shell.execute_reply": "2025-04-27T05:31:29.683107Z"
    },
    "papermill": {
     "duration": 0.035837,
     "end_time": "2025-04-27T05:31:29.685420",
     "exception": false,
     "start_time": "2025-04-27T05:31:29.649583",
     "status": "completed"
    },
    "tags": []
   },
   "outputs": [
    {
     "name": "stdout",
     "output_type": "stream",
     "text": [
      "Loaded features from: /kaggle/working/features_step3_fixed.csv\n",
      "Loaded raw data from: /kaggle/input/shill-bidding-dataset1/Shill Bidding Dataset.csv\n"
     ]
    }
   ],
   "source": [
    "\n",
    "# Load your engineered features\n",
    "feat_path = Path('/kaggle/working/features_step3_fixed.csv')\n",
    "df_feat   = pd.read_csv(feat_path)\n",
    "print(\"Loaded features from:\", feat_path)\n",
    "\n",
    "# Load the original Auction_Bids to get per-bidder counts\n",
    "raw_path = Path('/kaggle/input/shill-bidding-dataset1/Shill Bidding Dataset.csv')\n",
    "df_raw   = pd.read_csv(raw_path)\n",
    "print(\"Loaded raw data from:\", raw_path)\n"
   ]
  },
  {
   "cell_type": "code",
   "execution_count": 6,
   "id": "b4160086",
   "metadata": {
    "execution": {
     "iopub.execute_input": "2025-04-27T05:31:29.703729Z",
     "iopub.status.busy": "2025-04-27T05:31:29.703252Z",
     "iopub.status.idle": "2025-04-27T05:31:29.716078Z",
     "shell.execute_reply": "2025-04-27T05:31:29.715466Z"
    },
    "papermill": {
     "duration": 0.024133,
     "end_time": "2025-04-27T05:31:29.717128",
     "exception": false,
     "start_time": "2025-04-27T05:31:29.692995",
     "status": "completed"
    },
    "tags": []
   },
   "outputs": [],
   "source": [
    "# Merge in bid_count\n",
    "df = df_feat.merge(df_raw[['Record_ID','Auction_Bids']], on='Record_ID')\n",
    "df.rename(columns={'Auction_Bids':'bid_count'}, inplace=True)\n"
   ]
  },
  {
   "cell_type": "code",
   "execution_count": 7,
   "id": "e61185dd",
   "metadata": {
    "execution": {
     "iopub.execute_input": "2025-04-27T05:31:29.731957Z",
     "iopub.status.busy": "2025-04-27T05:31:29.731454Z",
     "iopub.status.idle": "2025-04-27T05:31:29.736573Z",
     "shell.execute_reply": "2025-04-27T05:31:29.735844Z"
    },
    "papermill": {
     "duration": 0.014543,
     "end_time": "2025-04-27T05:31:29.737792",
     "exception": false,
     "start_time": "2025-04-27T05:31:29.723249",
     "status": "completed"
    },
    "tags": []
   },
   "outputs": [],
   "source": [
    "# 3 · Rule‑based sniper\n",
    "df['strategy'] = 'unlabeled'\n",
    "sniper_mask   = (df['time_to_close_sec'] <= 10) & (df['bid_count'] == 1)\n",
    "df.loc[sniper_mask, 'strategy'] = 'sniper'"
   ]
  },
  {
   "cell_type": "code",
   "execution_count": 8,
   "id": "939b26cb",
   "metadata": {
    "execution": {
     "iopub.execute_input": "2025-04-27T05:31:29.751109Z",
     "iopub.status.busy": "2025-04-27T05:31:29.750626Z",
     "iopub.status.idle": "2025-04-27T05:31:29.815991Z",
     "shell.execute_reply": "2025-04-27T05:31:29.815512Z"
    },
    "papermill": {
     "duration": 0.073016,
     "end_time": "2025-04-27T05:31:29.817176",
     "exception": false,
     "start_time": "2025-04-27T05:31:29.744160",
     "status": "completed"
    },
    "tags": []
   },
   "outputs": [],
   "source": [
    "# 4 · Cluster the unlabeled on the key behavioural features\n",
    "features = ['time_to_close_sec','burstiness_rate','bid_count_share',\n",
    "            'win_ratio_running','exp_auctions']\n",
    "X = df.loc[df['strategy']=='unlabeled', features].fillna(0)\n",
    "\n",
    "kmeans = KMeans(n_clusters=3, random_state=42, n_init='auto').fit(X)\n",
    "\n",
    "df.loc[df['strategy']=='unlabeled','cluster'] = kmeans.labels_"
   ]
  },
  {
   "cell_type": "code",
   "execution_count": 9,
   "id": "f89aeea4",
   "metadata": {
    "execution": {
     "iopub.execute_input": "2025-04-27T05:31:29.832611Z",
     "iopub.status.busy": "2025-04-27T05:31:29.832216Z",
     "iopub.status.idle": "2025-04-27T05:31:29.837850Z",
     "shell.execute_reply": "2025-04-27T05:31:29.837104Z"
    },
    "papermill": {
     "duration": 0.013672,
     "end_time": "2025-04-27T05:31:29.838922",
     "exception": false,
     "start_time": "2025-04-27T05:31:29.825250",
     "status": "completed"
    },
    "tags": []
   },
   "outputs": [
    {
     "name": "stdout",
     "output_type": "stream",
     "text": [
      "\n",
      "Cluster centers (clusters 0,1,2):\n",
      "    time_to_close_sec  burstiness_rate  bid_count_share  win_ratio_running  \\\n",
      "0      533062.193344         0.074632         0.131699           0.392713   \n",
      "1       48282.634776         0.119951         0.121119           0.346651   \n",
      "2      248956.469317         0.098169         0.137280           0.387328   \n",
      "\n",
      "   exp_auctions  \n",
      "0      7.126506  \n",
      "1      8.968239  \n",
      "2      7.560606  \n"
     ]
    }
   ],
   "source": [
    "# 5 · Inspect the centers\n",
    "centers = pd.DataFrame(kmeans.cluster_centers_, columns=features)\n",
    "print(\"\\nCluster centers (clusters 0,1,2):\\n\", centers)"
   ]
  },
  {
   "cell_type": "code",
   "execution_count": 10,
   "id": "ac8c5cb1",
   "metadata": {
    "execution": {
     "iopub.execute_input": "2025-04-27T05:31:29.851492Z",
     "iopub.status.busy": "2025-04-27T05:31:29.851279Z",
     "iopub.status.idle": "2025-04-27T05:31:29.858161Z",
     "shell.execute_reply": "2025-04-27T05:31:29.857725Z"
    },
    "papermill": {
     "duration": 0.014291,
     "end_time": "2025-04-27T05:31:29.859204",
     "exception": false,
     "start_time": "2025-04-27T05:31:29.844913",
     "status": "completed"
    },
    "tags": []
   },
   "outputs": [],
   "source": [
    "# … after you print the centers …\n",
    "\n",
    "# 6 · Map clusters → strategies (updated)\n",
    "mapping = {\n",
    "    0: 'incrementalist',   # bids far from close\n",
    "    1: 'sniper',           # bids right at the end\n",
    "    2: 'jump_bidder'       # intermediate timing\n",
    "}\n",
    "\n",
    "df.loc[df['strategy']=='unlabeled','strategy'] = \\\n",
    "    df.loc[df['strategy']=='unlabeled','cluster'].map(mapping)\n"
   ]
  },
  {
   "cell_type": "code",
   "execution_count": 11,
   "id": "868c948b",
   "metadata": {
    "execution": {
     "iopub.execute_input": "2025-04-27T05:31:29.872516Z",
     "iopub.status.busy": "2025-04-27T05:31:29.872012Z",
     "iopub.status.idle": "2025-04-27T05:31:29.885089Z",
     "shell.execute_reply": "2025-04-27T05:31:29.884497Z"
    },
    "papermill": {
     "duration": 0.020499,
     "end_time": "2025-04-27T05:31:29.886111",
     "exception": false,
     "start_time": "2025-04-27T05:31:29.865612",
     "status": "completed"
    },
    "tags": []
   },
   "outputs": [
    {
     "name": "stdout",
     "output_type": "stream",
     "text": [
      "\n",
      "✔︎  Saved strategy labels to /kaggle/working/step4_strategy_labels.csv\n",
      "strategy\n",
      "sniper            3243\n",
      "jump_bidder       1586\n",
      "incrementalist    1492\n",
      "Name: count, dtype: int64\n"
     ]
    }
   ],
   "source": [
    "# 7 · Save final labels\n",
    "out_path = Path('/kaggle/working/step4_strategy_labels.csv')\n",
    "df[['Record_ID','strategy']].to_csv(out_path, index=False)\n",
    "print(f\"\\n✔︎  Saved strategy labels to {out_path}\")\n",
    "print(df['strategy'].value_counts())\n"
   ]
  },
  {
   "cell_type": "code",
   "execution_count": 12,
   "id": "beb54e25",
   "metadata": {
    "execution": {
     "iopub.execute_input": "2025-04-27T05:31:29.899298Z",
     "iopub.status.busy": "2025-04-27T05:31:29.898700Z",
     "iopub.status.idle": "2025-04-27T05:31:30.048603Z",
     "shell.execute_reply": "2025-04-27T05:31:30.047758Z"
    },
    "papermill": {
     "duration": 0.157722,
     "end_time": "2025-04-27T05:31:30.049943",
     "exception": false,
     "start_time": "2025-04-27T05:31:29.892221",
     "status": "completed"
    },
    "tags": []
   },
   "outputs": [
    {
     "name": "stdout",
     "output_type": "stream",
     "text": [
      "✔︎  Long‐format table saved to /kaggle/working/step5_long_format.csv\n",
      "Example rows:\n",
      "   chooser_id  choice_id             alt  chosen  time_from_start_sec  \\\n",
      "0      *****       7205          sniper       0        138546.000029   \n",
      "1      *****       7205     jump_bidder       0        138546.000029   \n",
      "2      *****       7205  incrementalist       1        138546.000029   \n",
      "3      *****      12560          sniper       1        149676.999993   \n",
      "4      *****      12560     jump_bidder       0        149676.999993   \n",
      "5      *****      12560  incrementalist       0        149676.999993   \n",
      "6      *****      14260          sniper       0        163020.999980   \n",
      "7      *****      14260     jump_bidder       0        163020.999980   \n",
      "8      *****      14260  incrementalist       1        163020.999980   \n",
      "\n",
      "   time_to_close_sec  burstiness_rate  bid_count_share  win_ratio_running  \\\n",
      "0      466253.999971              0.0         0.032258                0.0   \n",
      "1      466253.999971              0.0         0.032258                0.0   \n",
      "2      466253.999971              0.0         0.032258                0.0   \n",
      "3      109523.000007              0.0         0.043478                0.0   \n",
      "4      109523.000007              0.0         0.043478                0.0   \n",
      "5      109523.000007              0.0         0.043478                0.0   \n",
      "6      441779.000020              0.0         0.055556                0.0   \n",
      "7      441779.000020              0.0         0.055556                0.0   \n",
      "8      441779.000020              0.0         0.055556                0.0   \n",
      "\n",
      "   exp_auctions  \n",
      "0             0  \n",
      "1             0  \n",
      "2             0  \n",
      "3             1  \n",
      "4             1  \n",
      "5             1  \n",
      "6             2  \n",
      "7             2  \n",
      "8             2  \n"
     ]
    }
   ],
   "source": [
    "\n",
    "# 1 · Load your engineered features & the labeled strategies\n",
    "feat = pd.read_csv('/kaggle/working/features_step3_fixed.csv')\n",
    "labs = pd.read_csv('/kaggle/working/step4_strategy_labels.csv')\n",
    "\n",
    "# 2 · Merge them on Record_ID\n",
    "df = feat.merge(labs, on='Record_ID')\n",
    "\n",
    "# 3 · Define your set of alternatives\n",
    "alts = ['sniper','jump_bidder','incrementalist']\n",
    "alts_df = pd.DataFrame({'alt': alts})\n",
    "\n",
    "# 4 · Cross‐join to get one row per (Record_ID × alt)\n",
    "long = df.merge(alts_df, how='cross')\n",
    "\n",
    "# 5 · Create the ‘chosen’ indicator\n",
    "long['chosen'] = (long['strategy'] == long['alt']).astype(int)\n",
    "\n",
    "# 6 · Rename columns for the estimator\n",
    "long.rename(columns={\n",
    "    'Bidder_ID': 'chooser_id',\n",
    "    'Record_ID': 'choice_id'\n",
    "}, inplace=True)\n",
    "\n",
    "# 7 · Select only the columns your model needs\n",
    "covariates = [\n",
    "    'time_from_start_sec','time_to_close_sec',\n",
    "    'burstiness_rate','bid_count_share',\n",
    "    'win_ratio_running','exp_auctions'\n",
    "]\n",
    "final_cols = ['chooser_id','choice_id','alt','chosen'] + covariates\n",
    "long_df = long[final_cols]\n",
    "\n",
    "# 8 · Save\n",
    "out_path = Path('/kaggle/working/step5_long_format.csv')\n",
    "long_df.to_csv(out_path, index=False)\n",
    "print(\"✔︎  Long‐format table saved to\", out_path)\n",
    "print(\"Example rows:\\n\", long_df.head(9))\n"
   ]
  },
  {
   "cell_type": "markdown",
   "id": "767397af",
   "metadata": {
    "papermill": {
     "duration": 0.00608,
     "end_time": "2025-04-27T05:31:30.062762",
     "exception": false,
     "start_time": "2025-04-27T05:31:30.056682",
     "status": "completed"
    },
    "tags": []
   },
   "source": [
    "# MNL Estimates"
   ]
  },
  {
   "cell_type": "code",
   "execution_count": 13,
   "id": "b56a1cd3",
   "metadata": {
    "execution": {
     "iopub.execute_input": "2025-04-27T05:31:30.075759Z",
     "iopub.status.busy": "2025-04-27T05:31:30.075565Z",
     "iopub.status.idle": "2025-04-27T05:31:31.583569Z",
     "shell.execute_reply": "2025-04-27T05:31:31.583009Z"
    },
    "papermill": {
     "duration": 1.516011,
     "end_time": "2025-04-27T05:31:31.584878",
     "exception": false,
     "start_time": "2025-04-27T05:31:30.068867",
     "status": "completed"
    },
    "tags": []
   },
   "outputs": [],
   "source": [
    "import pandas as pd\n",
    "import statsmodels.api as sm\n",
    "from sklearn.model_selection import train_test_split\n",
    "from sklearn.metrics import confusion_matrix, f1_score\n",
    "from sklearn.linear_model import LogisticRegression\n",
    "from sklearn.preprocessing import StandardScaler"
   ]
  },
  {
   "cell_type": "code",
   "execution_count": 14,
   "id": "ba5a9c3e",
   "metadata": {
    "execution": {
     "iopub.execute_input": "2025-04-27T05:31:31.599387Z",
     "iopub.status.busy": "2025-04-27T05:31:31.598813Z",
     "iopub.status.idle": "2025-04-27T05:31:31.662212Z",
     "shell.execute_reply": "2025-04-27T05:31:31.661475Z"
    },
    "papermill": {
     "duration": 0.071628,
     "end_time": "2025-04-27T05:31:31.663341",
     "exception": false,
     "start_time": "2025-04-27T05:31:31.591713",
     "status": "completed"
    },
    "tags": []
   },
   "outputs": [],
   "source": [
    "df = pd.read_csv('/kaggle/working/step5_long_format.csv')\n",
    "\n",
    "chosen = df[df['chosen'] == 1].copy()\n",
    "\n",
    "code_map = {'incrementalist': 0, 'sniper': 1, 'jump_bidder': 2}\n",
    "chosen['y'] = chosen['alt'].map(code_map)\n",
    "\n",
    "X = chosen[\n",
    "    ['time_from_start_sec',\n",
    "     'time_to_close_sec',\n",
    "     'burstiness_rate',\n",
    "     'bid_count_share',\n",
    "     'win_ratio_running',\n",
    "     'exp_auctions']\n",
    "]\n",
    "X = sm.add_constant(X)   # adds alternative‐specific intercepts automatically\n",
    "\n",
    "y = chosen['y']\n",
    "\n",
    "scaler = StandardScaler()\n",
    "Xs = scaler.fit_transform(X)\n",
    "X_tr, X_te, y_tr, y_te = train_test_split(Xs, y, stratify=y, test_size=0.2, random_state=42)"
   ]
  },
  {
   "cell_type": "code",
   "execution_count": 15,
   "id": "27d21d25",
   "metadata": {
    "execution": {
     "iopub.execute_input": "2025-04-27T05:31:31.677050Z",
     "iopub.status.busy": "2025-04-27T05:31:31.676646Z",
     "iopub.status.idle": "2025-04-27T05:31:31.861097Z",
     "shell.execute_reply": "2025-04-27T05:31:31.860387Z"
    },
    "papermill": {
     "duration": 0.1932,
     "end_time": "2025-04-27T05:31:31.862905",
     "exception": false,
     "start_time": "2025-04-27T05:31:31.669705",
     "status": "completed"
    },
    "tags": []
   },
   "outputs": [
    {
     "name": "stdout",
     "output_type": "stream",
     "text": [
      "Raw intercepts:\n",
      " incrementalist   -4.298542\n",
      "sniper           -0.024889\n",
      "jump_bidder       4.323432\n",
      "Name: intercept, dtype: float64 \n",
      "\n",
      "Alt‑specific constants (incrementalist=0):\n",
      " incrementalist    0.000000\n",
      "sniper            4.273653\n",
      "jump_bidder       8.621974\n",
      "Name: intercept, dtype: float64\n"
     ]
    }
   ],
   "source": [
    "clf = LogisticRegression(\n",
    "    multi_class='multinomial',\n",
    "    solver='lbfgs',\n",
    "    C=1.0,           # inverse regularization strength; smaller = more penalty\n",
    "    max_iter=200\n",
    ")\n",
    "clf.fit(X_tr, y_tr)\n",
    "\n",
    "classes = ['incrementalist','sniper','jump_bidder']\n",
    "\n",
    "# 1) Grab the raw intercepts\n",
    "intercepts = pd.Series(clf.intercept_, index=classes, name='intercept')\n",
    "print(\"Raw intercepts:\\n\", intercepts, \"\\n\")\n",
    "\n",
    "# 2) Re‑base so incrementalist = 0\n",
    "base = intercepts['incrementalist']\n",
    "alt_constants = intercepts - base\n",
    "print(\"Alt‑specific constants (incrementalist=0):\\n\", alt_constants)\n"
   ]
  },
  {
   "cell_type": "code",
   "execution_count": 16,
   "id": "b21b4b32",
   "metadata": {
    "execution": {
     "iopub.execute_input": "2025-04-27T05:31:31.939205Z",
     "iopub.status.busy": "2025-04-27T05:31:31.938700Z",
     "iopub.status.idle": "2025-04-27T05:31:31.975236Z",
     "shell.execute_reply": "2025-04-27T05:31:31.974755Z"
    },
    "papermill": {
     "duration": 0.049558,
     "end_time": "2025-04-27T05:31:31.976774",
     "exception": false,
     "start_time": "2025-04-27T05:31:31.927216",
     "status": "completed"
    },
    "tags": []
   },
   "outputs": [
    {
     "name": "stdout",
     "output_type": "stream",
     "text": [
      "Train accuracy: 0.993\n",
      "Test  accuracy: 0.995\n",
      "Weighted F1-score: 0.995\n",
      "Confusion matrix (rows=true, cols=pred):\n",
      " [[299   0   0]\n",
      " [  0 649   0]\n",
      " [  6   0 311]]\n"
     ]
    }
   ],
   "source": [
    "# 6 · Evaluate\n",
    "train_acc = clf.score(X_tr, y_tr)\n",
    "test_acc  = clf.score(X_te, y_te)\n",
    "y_pred    = clf.predict(X_te)\n",
    "f1        = f1_score(y_te, y_pred, average='weighted')\n",
    "cm        = confusion_matrix(y_te, y_pred)\n",
    "\n",
    "print(f\"Train accuracy: {train_acc:.3f}\")\n",
    "print(f\"Test  accuracy: {test_acc:.3f}\")\n",
    "print(f\"Weighted F1-score: {f1:.3f}\")\n",
    "print(\"Confusion matrix (rows=true, cols=pred):\\n\", cm)"
   ]
  },
  {
   "cell_type": "code",
   "execution_count": 17,
   "id": "25b38184",
   "metadata": {
    "execution": {
     "iopub.execute_input": "2025-04-27T05:31:31.995109Z",
     "iopub.status.busy": "2025-04-27T05:31:31.994944Z",
     "iopub.status.idle": "2025-04-27T05:31:32.000919Z",
     "shell.execute_reply": "2025-04-27T05:31:32.000059Z"
    },
    "papermill": {
     "duration": 0.013853,
     "end_time": "2025-04-27T05:31:32.002002",
     "exception": false,
     "start_time": "2025-04-27T05:31:31.988149",
     "status": "completed"
    },
    "tags": []
   },
   "outputs": [
    {
     "name": "stdout",
     "output_type": "stream",
     "text": [
      "Full parameter table:\n",
      "                      incrementalist     sniper  jump_bidder\n",
      "const                     -4.298542  -0.024889     4.323432\n",
      "time_from_start_sec       -0.552404   0.322558     0.229846\n",
      "time_to_close_sec         11.397543 -12.623385     1.225842\n",
      "burstiness_rate           -0.029117   0.097415    -0.068298\n",
      "bid_count_share           -0.121547   0.020017     0.101531\n",
      "win_ratio_running          0.035006   0.011558    -0.046564\n",
      "exp_auctions              -0.052315   0.015824     0.036491\n"
     ]
    }
   ],
   "source": [
    "    # 3) Build your slope DataFrame\n",
    "    coef_df = pd.DataFrame(clf.coef_, index=classes, columns=X.columns).T\n",
    "    \n",
    "    # 4) Append the intercepts as a “const” row\n",
    "    coef_df.loc['const'] = intercepts\n",
    "    \n",
    "    print(\"Full parameter table:\\n\", coef_df)\n"
   ]
  },
  {
   "cell_type": "markdown",
   "id": "b194dc07",
   "metadata": {
    "papermill": {
     "duration": 0.006182,
     "end_time": "2025-04-27T05:31:32.014513",
     "exception": false,
     "start_time": "2025-04-27T05:31:32.008331",
     "status": "completed"
    },
    "tags": []
   },
   "source": [
    "# Mixed Logit/ Random-Parameters Logit "
   ]
  },
  {
   "cell_type": "code",
   "execution_count": 18,
   "id": "b1ca572c",
   "metadata": {
    "execution": {
     "iopub.execute_input": "2025-04-27T05:31:32.027749Z",
     "iopub.status.busy": "2025-04-27T05:31:32.027547Z",
     "iopub.status.idle": "2025-04-27T05:31:36.200452Z",
     "shell.execute_reply": "2025-04-27T05:31:36.199407Z"
    },
    "papermill": {
     "duration": 4.181122,
     "end_time": "2025-04-27T05:31:36.201887",
     "exception": false,
     "start_time": "2025-04-27T05:31:32.020765",
     "status": "completed"
    },
    "tags": []
   },
   "outputs": [
    {
     "name": "stdout",
     "output_type": "stream",
     "text": [
      "Collecting pylogit\r\n",
      "  Downloading pylogit-1.0.1-py3-none-any.whl.metadata (3.5 kB)\r\n",
      "Requirement already satisfied: pandas>=0.16.2 in /usr/local/lib/python3.11/dist-packages (from pylogit) (2.2.3)\r\n",
      "Requirement already satisfied: numpy>=1.10.2 in /usr/local/lib/python3.11/dist-packages (from pylogit) (1.26.4)\r\n",
      "Requirement already satisfied: scipy>=0.16.1 in /usr/local/lib/python3.11/dist-packages (from pylogit) (1.15.2)\r\n",
      "Requirement already satisfied: future>=0.16 in /usr/local/lib/python3.11/dist-packages (from pylogit) (1.0.0)\r\n",
      "Requirement already satisfied: statsmodels>=0.6.1 in /usr/local/lib/python3.11/dist-packages (from pylogit) (0.14.4)\r\n",
      "Requirement already satisfied: tqdm>=4.15.0 in /usr/local/lib/python3.11/dist-packages (from pylogit) (4.67.1)\r\n",
      "Requirement already satisfied: mkl_fft in /usr/local/lib/python3.11/dist-packages (from numpy>=1.10.2->pylogit) (1.3.8)\r\n",
      "Requirement already satisfied: mkl_random in /usr/local/lib/python3.11/dist-packages (from numpy>=1.10.2->pylogit) (1.2.4)\r\n",
      "Requirement already satisfied: mkl_umath in /usr/local/lib/python3.11/dist-packages (from numpy>=1.10.2->pylogit) (0.1.1)\r\n",
      "Requirement already satisfied: mkl in /usr/local/lib/python3.11/dist-packages (from numpy>=1.10.2->pylogit) (2025.1.0)\r\n",
      "Requirement already satisfied: tbb4py in /usr/local/lib/python3.11/dist-packages (from numpy>=1.10.2->pylogit) (2022.1.0)\r\n",
      "Requirement already satisfied: mkl-service in /usr/local/lib/python3.11/dist-packages (from numpy>=1.10.2->pylogit) (2.4.1)\r\n",
      "Requirement already satisfied: python-dateutil>=2.8.2 in /usr/local/lib/python3.11/dist-packages (from pandas>=0.16.2->pylogit) (2.9.0.post0)\r\n",
      "Requirement already satisfied: pytz>=2020.1 in /usr/local/lib/python3.11/dist-packages (from pandas>=0.16.2->pylogit) (2025.2)\r\n",
      "Requirement already satisfied: tzdata>=2022.7 in /usr/local/lib/python3.11/dist-packages (from pandas>=0.16.2->pylogit) (2025.2)\r\n",
      "Requirement already satisfied: patsy>=0.5.6 in /usr/local/lib/python3.11/dist-packages (from statsmodels>=0.6.1->pylogit) (1.0.1)\r\n",
      "Requirement already satisfied: packaging>=21.3 in /usr/local/lib/python3.11/dist-packages (from statsmodels>=0.6.1->pylogit) (24.2)\r\n",
      "Requirement already satisfied: six>=1.5 in /usr/local/lib/python3.11/dist-packages (from python-dateutil>=2.8.2->pandas>=0.16.2->pylogit) (1.17.0)\r\n",
      "Requirement already satisfied: intel-openmp<2026,>=2024 in /usr/local/lib/python3.11/dist-packages (from mkl->numpy>=1.10.2->pylogit) (2024.2.0)\r\n",
      "Requirement already satisfied: tbb==2022.* in /usr/local/lib/python3.11/dist-packages (from mkl->numpy>=1.10.2->pylogit) (2022.1.0)\r\n",
      "Requirement already satisfied: tcmlib==1.* in /usr/local/lib/python3.11/dist-packages (from tbb==2022.*->mkl->numpy>=1.10.2->pylogit) (1.2.0)\r\n",
      "Requirement already satisfied: intel-cmplr-lib-rt in /usr/local/lib/python3.11/dist-packages (from mkl_umath->numpy>=1.10.2->pylogit) (2024.2.0)\r\n",
      "Requirement already satisfied: intel-cmplr-lib-ur==2024.2.0 in /usr/local/lib/python3.11/dist-packages (from intel-openmp<2026,>=2024->mkl->numpy>=1.10.2->pylogit) (2024.2.0)\r\n",
      "Downloading pylogit-1.0.1-py3-none-any.whl (151 kB)\r\n",
      "\u001b[2K   \u001b[90m━━━━━━━━━━━━━━━━━━━━━━━━━━━━━━━━━━━━━━━━\u001b[0m \u001b[32m151.4/151.4 kB\u001b[0m \u001b[31m2.7 MB/s\u001b[0m eta \u001b[36m0:00:00\u001b[0m\r\n",
      "\u001b[?25hInstalling collected packages: pylogit\r\n",
      "Successfully installed pylogit-1.0.1\r\n",
      "Note: you may need to restart the kernel to use updated packages.\n"
     ]
    }
   ],
   "source": [
    "pip install pylogit\n"
   ]
  },
  {
   "cell_type": "markdown",
   "id": "1a8ac504",
   "metadata": {
    "papermill": {
     "duration": 0.006707,
     "end_time": "2025-04-27T05:31:36.215878",
     "exception": false,
     "start_time": "2025-04-27T05:31:36.209171",
     "status": "completed"
    },
    "tags": []
   },
   "source": [
    "## MMNL"
   ]
  },
  {
   "cell_type": "code",
   "execution_count": null,
   "id": "719814f9",
   "metadata": {
    "papermill": {
     "duration": 0.006504,
     "end_time": "2025-04-27T05:31:36.229170",
     "exception": false,
     "start_time": "2025-04-27T05:31:36.222666",
     "status": "completed"
    },
    "tags": []
   },
   "outputs": [],
   "source": []
  },
  {
   "cell_type": "code",
   "execution_count": 19,
   "id": "e5be69b3",
   "metadata": {
    "execution": {
     "iopub.execute_input": "2025-04-27T05:31:36.243997Z",
     "iopub.status.busy": "2025-04-27T05:31:36.243714Z",
     "iopub.status.idle": "2025-04-27T05:31:36.251326Z",
     "shell.execute_reply": "2025-04-27T05:31:36.250736Z"
    },
    "papermill": {
     "duration": 0.016492,
     "end_time": "2025-04-27T05:31:36.252306",
     "exception": false,
     "start_time": "2025-04-27T05:31:36.235814",
     "status": "completed"
    },
    "tags": []
   },
   "outputs": [
    {
     "name": "stdout",
     "output_type": "stream",
     "text": [
      "✅ Patch applied! Try importing pylogit again.\n"
     ]
    }
   ],
   "source": [
    "# Patch pylogit to fix ImportError in Python 3.10+\n",
    "import os\n",
    "\n",
    "file_path = '/usr/local/lib/python3.11/dist-packages/pylogit/choice_tools.py'\n",
    "\n",
    "# Read file\n",
    "with open(file_path, 'r') as file:\n",
    "    lines = file.readlines()\n",
    "\n",
    "# Replace wrong import\n",
    "new_lines = []\n",
    "for line in lines:\n",
    "    if 'from collections import Iterable' in line:\n",
    "        new_lines.append('from collections.abc import Iterable\\n')\n",
    "    else:\n",
    "        new_lines.append(line)\n",
    "\n",
    "# Write back\n",
    "with open(file_path, 'w') as file:\n",
    "    file.writelines(new_lines)\n",
    "\n",
    "print('✅ Patch applied! Try importing pylogit again.')\n"
   ]
  },
  {
   "cell_type": "code",
   "execution_count": 20,
   "id": "1fe98e20",
   "metadata": {
    "execution": {
     "iopub.execute_input": "2025-04-27T05:31:36.267414Z",
     "iopub.status.busy": "2025-04-27T05:31:36.267151Z",
     "iopub.status.idle": "2025-04-27T05:31:36.368295Z",
     "shell.execute_reply": "2025-04-27T05:31:36.367744Z"
    },
    "papermill": {
     "duration": 0.110174,
     "end_time": "2025-04-27T05:31:36.369492",
     "exception": false,
     "start_time": "2025-04-27T05:31:36.259318",
     "status": "completed"
    },
    "tags": []
   },
   "outputs": [],
   "source": [
    "# 1 Setup ────────────────────────────────────────────────────────────\n",
    "import pandas as pd, numpy as np, pylogit as pl\n",
    "from collections import OrderedDict\n",
    "from sklearn.model_selection import GroupShuffleSplit\n",
    "from sklearn.preprocessing import StandardScaler\n",
    "import collections\n",
    "import collections.abc\n",
    "\n",
    "collections.Iterable = collections.abc.Iterable\n",
    "\n",
    "df = pd.read_csv('/kaggle/working/step5_long_format.csv')"
   ]
  },
  {
   "cell_type": "code",
   "execution_count": 21,
   "id": "9aac2451",
   "metadata": {
    "execution": {
     "iopub.execute_input": "2025-04-27T05:31:36.384212Z",
     "iopub.status.busy": "2025-04-27T05:31:36.383991Z",
     "iopub.status.idle": "2025-04-27T05:31:36.387175Z",
     "shell.execute_reply": "2025-04-27T05:31:36.386677Z"
    },
    "papermill": {
     "duration": 0.011564,
     "end_time": "2025-04-27T05:31:36.388199",
     "exception": false,
     "start_time": "2025-04-27T05:31:36.376635",
     "status": "completed"
    },
    "tags": []
   },
   "outputs": [],
   "source": [
    "FILE = \"/kaggle/working/step5_long_format.csv\"     # <- your upload\n",
    "RANDOM_SEED = 42\n",
    "DRAWS       = 2_000                    # ↑ for publication\n"
   ]
  },
  {
   "cell_type": "code",
   "execution_count": 22,
   "id": "c6eca605",
   "metadata": {
    "execution": {
     "iopub.execute_input": "2025-04-27T05:31:36.402306Z",
     "iopub.status.busy": "2025-04-27T05:31:36.402125Z",
     "iopub.status.idle": "2025-04-27T05:31:36.433085Z",
     "shell.execute_reply": "2025-04-27T05:31:36.432601Z"
    },
    "papermill": {
     "duration": 0.03924,
     "end_time": "2025-04-27T05:31:36.434169",
     "exception": false,
     "start_time": "2025-04-27T05:31:36.394929",
     "status": "completed"
    },
    "tags": []
   },
   "outputs": [],
   "source": [
    "# 1. ─────────────── Load & basic prep ─────────────────────────────────\n",
    "df = pd.read_csv(FILE)\n",
    "\n",
    "alt_map = {'sniper': 1, 'jump_bidder': 2, 'incrementalist': 3}\n",
    "df['alt_id'] = df['alt'].map(alt_map)\n",
    "\n",
    "# Dummy ASCs (create *before* any splitting so they exist everywhere)\n",
    "df['ASC_sniper'] = (df['alt_id'] == 1).astype(int)\n",
    "df['ASC_jump']   = (df['alt_id'] == 2).astype(int)\n",
    "# (incrementalist is base → no dummy)"
   ]
  },
  {
   "cell_type": "code",
   "execution_count": 23,
   "id": "bf567fcb",
   "metadata": {
    "execution": {
     "iopub.execute_input": "2025-04-27T05:31:36.448804Z",
     "iopub.status.busy": "2025-04-27T05:31:36.448635Z",
     "iopub.status.idle": "2025-04-27T05:31:36.458448Z",
     "shell.execute_reply": "2025-04-27T05:31:36.457959Z"
    },
    "papermill": {
     "duration": 0.018397,
     "end_time": "2025-04-27T05:31:36.459554",
     "exception": false,
     "start_time": "2025-04-27T05:31:36.441157",
     "status": "completed"
    },
    "tags": []
   },
   "outputs": [],
   "source": [
    "# 2. ─────────────── Train / test split (whole auctions) ──────────────\n",
    "gss = GroupShuffleSplit(test_size=0.30, n_splits=1, random_state=RANDOM_SEED)\n",
    "train_idx, test_idx = next(gss.split(df, groups=df['choice_id']))\n",
    "train, test = df.iloc[train_idx].copy(), df.iloc[test_idx].copy()\n"
   ]
  },
  {
   "cell_type": "code",
   "execution_count": 24,
   "id": "d4819509",
   "metadata": {
    "execution": {
     "iopub.execute_input": "2025-04-27T05:31:36.473897Z",
     "iopub.status.busy": "2025-04-27T05:31:36.473703Z",
     "iopub.status.idle": "2025-04-27T05:31:36.482680Z",
     "shell.execute_reply": "2025-04-27T05:31:36.482207Z"
    },
    "papermill": {
     "duration": 0.017096,
     "end_time": "2025-04-27T05:31:36.483694",
     "exception": false,
     "start_time": "2025-04-27T05:31:36.466598",
     "status": "completed"
    },
    "tags": []
   },
   "outputs": [],
   "source": [
    "# Keep entire choice sets contiguous\n",
    "train = train.sort_values(['choice_id','alt_id']).reset_index(drop=True)\n",
    "test  = test.sort_values(['choice_id','alt_id']).reset_index(drop=True)\n"
   ]
  },
  {
   "cell_type": "code",
   "execution_count": 25,
   "id": "ea81f00c",
   "metadata": {
    "execution": {
     "iopub.execute_input": "2025-04-27T05:31:36.497700Z",
     "iopub.status.busy": "2025-04-27T05:31:36.497493Z",
     "iopub.status.idle": "2025-04-27T05:31:36.509944Z",
     "shell.execute_reply": "2025-04-27T05:31:36.509494Z"
    },
    "papermill": {
     "duration": 0.020608,
     "end_time": "2025-04-27T05:31:36.510955",
     "exception": false,
     "start_time": "2025-04-27T05:31:36.490347",
     "status": "completed"
    },
    "tags": []
   },
   "outputs": [],
   "source": [
    "# 3. ─────────────── Scale continuous covariates (helps optimiser) ───\n",
    "scale_cols = ['time_from_start_sec','time_to_close_sec',\n",
    "              'burstiness_rate','bid_count_share',\n",
    "              'win_ratio_running','exp_auctions']\n",
    "scaler = StandardScaler().fit(train[scale_cols])\n",
    "train[scale_cols] = scaler.transform(train[scale_cols])\n",
    "test[scale_cols]  = scaler.transform(test[scale_cols])\n"
   ]
  },
  {
   "cell_type": "code",
   "execution_count": 26,
   "id": "5b6520a3",
   "metadata": {
    "execution": {
     "iopub.execute_input": "2025-04-27T05:31:36.525310Z",
     "iopub.status.busy": "2025-04-27T05:31:36.525122Z",
     "iopub.status.idle": "2025-04-27T05:31:36.529425Z",
     "shell.execute_reply": "2025-04-27T05:31:36.528920Z"
    },
    "papermill": {
     "duration": 0.012706,
     "end_time": "2025-04-27T05:31:36.530401",
     "exception": false,
     "start_time": "2025-04-27T05:31:36.517695",
     "status": "completed"
    },
    "tags": []
   },
   "outputs": [],
   "source": [
    "# 4. ─────────────── PyLogit specification dict (alt-ID lists!) ──────\n",
    "all_alts = [1, 2, 3]\n",
    "\n",
    "spec = OrderedDict([\n",
    "    ('time_from_start_sec', [all_alts]),  # generic β\n",
    "    ('time_to_close_sec'  , [all_alts]),\n",
    "    ('burstiness_rate'    , [all_alts]),\n",
    "    ('bid_count_share'    , [all_alts]),\n",
    "    ('win_ratio_running'  , [all_alts]),\n",
    "    ('exp_auctions'       , [all_alts]),\n",
    "    ('ASC_sniper'         , [all_alts]),  # generic × dummy\n",
    "    ('ASC_jump'           , [all_alts]),\n",
    "])\n",
    "names = OrderedDict([\n",
    "    ('time_from_start_sec', ['time_start']),    # one β → one label\n",
    "    ('time_to_close_sec'  , ['time_close']),\n",
    "    ('burstiness_rate'    , ['burst']),\n",
    "    ('bid_count_share'    , ['bid_share']),\n",
    "    ('win_ratio_running'  , ['win_ratio']),\n",
    "    ('exp_auctions'       , ['experience']),\n",
    "    ('ASC_sniper'         , ['ASC_sniper']),\n",
    "    ('ASC_jump'           , ['ASC_jump']),\n",
    "])"
   ]
  },
  {
   "cell_type": "code",
   "execution_count": 27,
   "id": "413c1326",
   "metadata": {
    "execution": {
     "iopub.execute_input": "2025-04-27T05:31:36.544591Z",
     "iopub.status.busy": "2025-04-27T05:31:36.544378Z",
     "iopub.status.idle": "2025-04-27T05:33:59.095299Z",
     "shell.execute_reply": "2025-04-27T05:33:59.094527Z"
    },
    "papermill": {
     "duration": 142.559571,
     "end_time": "2025-04-27T05:33:59.096681",
     "exception": false,
     "start_time": "2025-04-27T05:31:36.537110",
     "status": "completed"
    },
    "tags": []
   },
   "outputs": [
    {
     "name": "stdout",
     "output_type": "stream",
     "text": [
      "Log-likelihood at zero: -4,860.2608\n",
      "Initial Log-likelihood: -4,860.2608\n"
     ]
    },
    {
     "name": "stderr",
     "output_type": "stream",
     "text": [
      "/usr/local/lib/python3.11/dist-packages/pylogit/estimation.py:678: RuntimeWarning: Method BFGS does not use Hessian information (hess).\n",
      "  results = minimize(estimator.calc_neg_log_likelihood_and_neg_gradient,\n"
     ]
    },
    {
     "name": "stdout",
     "output_type": "stream",
     "text": [
      "Estimation Time for Point Estimation: 2.12 minutes.\n",
      "Final log-likelihood: -4,526.5719\n",
      "                     Mixed Logit Model Regression Results                     \n",
      "==============================================================================\n",
      "Dep. Variable:                 chosen   No. Observations:                4,424\n",
      "Model:              Mixed Logit Model   Df Residuals:                    4,415\n",
      "Method:                           MLE   Df Model:                            9\n",
      "Date:                Sun, 27 Apr 2025   Pseudo R-squ.:                   0.069\n",
      "Time:                        05:33:59   Pseudo R-bar-squ.:               0.067\n",
      "AIC:                        9,071.144   Log-Likelihood:             -4,526.572\n",
      "BIC:                        9,128.697   LL-Null:                    -4,860.261\n",
      "====================================================================================\n",
      "                       coef    std err          z      P>|z|      [0.025      0.975]\n",
      "------------------------------------------------------------------------------------\n",
      "time_start       -1.503e-13   1.73e+13  -8.67e-27      1.000    -3.4e+13     3.4e+13\n",
      "time_close        1.718e-13   1.42e+13   1.21e-26      1.000   -2.79e+13    2.79e+13\n",
      "burst             2.755e-14   1.19e+13   2.31e-27      1.000   -2.34e+13    2.34e+13\n",
      "bid_share         2.149e-13   1.67e+13   1.29e-26      1.000   -3.27e+13    3.27e+13\n",
      "win_ratio         3.555e-13   1.01e+13   3.52e-26      1.000   -1.98e+13    1.98e+13\n",
      "experience        4.779e-14   1.84e+13   2.59e-27      1.000   -3.62e+13    3.62e+13\n",
      "ASC_sniper           0.7736      0.045     17.374      0.000       0.686       0.861\n",
      "ASC_jump             0.0661      0.043      1.524      0.127      -0.019       0.151\n",
      "Sigma ASC_sniper     0.4915      0.033     15.057      0.000       0.427       0.555\n",
      "====================================================================================\n",
      "time_start         -1.503475e-13\n",
      "time_close          1.717657e-13\n",
      "burst               2.754522e-14\n",
      "bid_share           2.149447e-13\n",
      "win_ratio           3.555219e-13\n",
      "experience          4.779203e-14\n",
      "ASC_sniper          7.736010e-01\n",
      "ASC_jump            6.610130e-02\n",
      "Sigma ASC_sniper    4.914527e-01\n",
      "Name: parameters, dtype: float64\n"
     ]
    },
    {
     "name": "stderr",
     "output_type": "stream",
     "text": [
      "/usr/local/lib/python3.11/dist-packages/pylogit/base_multinomial_cm_v2.py:1259: RuntimeWarning: invalid value encountered in sqrt\n",
      "  self._store_inferential_results(np.sqrt(np.diag(self.robust_cov)),\n",
      "/usr/local/lib/python3.11/dist-packages/scipy/stats/_distn_infrastructure.py:2215: RuntimeWarning: invalid value encountered in less_equal\n",
      "  cond2 = cond0 & (x <= _a)\n"
     ]
    }
   ],
   "source": [
    "# 5. ─────────────── Build & estimate Mixed Logit ─────────────────────\n",
    "import numpy as np\n",
    "model = pl.create_choice_model(\n",
    "            data=train,\n",
    "            alt_id_col   ='alt_id',\n",
    "            obs_id_col   ='choice_id',\n",
    "            choice_col   ='chosen',\n",
    "            specification=spec,\n",
    "            names        =names,\n",
    "            model_type   =\"Mixed Logit\",\n",
    "            mixing_id_col='chooser_id',\n",
    "            mixing_vars  ={'ASC_sniper':'n'},   # random intercept\n",
    ")\n",
    "import numpy as np\n",
    "\n",
    "# # after you do `model = pl.create_choice_model(...)`\n",
    "# num_betas = len(specification)         # 8\n",
    "# num_sds   = len(model.mixing_vars)     # 1\n",
    "# K         = num_betas + num_sds        # 9\n",
    "\n",
    "init_vals = np.zeros(9)\n",
    "\n",
    "# Step 1: fit (as you did)\n",
    "model.fit_mle(\n",
    "    init_vals=init_vals,\n",
    "    num_draws=DRAWS,\n",
    "    seed=RANDOM_SEED,\n",
    "    constrained_pos=None,\n",
    "    print_res=True,\n",
    "    just_point=False\n",
    ")\n",
    "\n",
    "# Step 2: directly ask model to print model fit summary:\n",
    "print(model.get_statsmodels_summary())\n",
    "\n",
    "# Step 3: (optional) access estimated parameters:\n",
    "print(model.params)\n"
   ]
  },
  {
   "cell_type": "code",
   "execution_count": 28,
   "id": "13913d3a",
   "metadata": {
    "execution": {
     "iopub.execute_input": "2025-04-27T05:33:59.112184Z",
     "iopub.status.busy": "2025-04-27T05:33:59.111735Z",
     "iopub.status.idle": "2025-04-27T05:34:03.506734Z",
     "shell.execute_reply": "2025-04-27T05:34:03.505375Z"
    },
    "papermill": {
     "duration": 4.403835,
     "end_time": "2025-04-27T05:34:03.507983",
     "exception": false,
     "start_time": "2025-04-27T05:33:59.104148",
     "status": "completed"
    },
    "tags": []
   },
   "outputs": [
    {
     "name": "stdout",
     "output_type": "stream",
     "text": [
      "Train Accuracy: 0.514\n",
      "Test  Accuracy: 0.510\n",
      "Weighted F1-score: 0.345\n",
      "\n",
      "Confusion matrix (rows=true, cols=pred):\n",
      "[[968   0   0]\n",
      " [476   0   0]\n",
      " [453   0   0]]\n"
     ]
    }
   ],
   "source": [
    "from sklearn.metrics import accuracy_score, f1_score, confusion_matrix\n",
    "import numpy as np\n",
    "\n",
    "# 1. Predict on train\n",
    "probs_train = model.predict(data=train, num_draws=DRAWS, seed=RANDOM_SEED)\n",
    "n_obs_train = train['choice_id'].nunique()\n",
    "probs_train = probs_train.reshape((n_obs_train, 3))\n",
    "predicted_train = np.argmax(probs_train, axis=1) + 1\n",
    "\n",
    "# 2. Predict on test\n",
    "probs_test = model.predict(data=test, num_draws=DRAWS, seed=RANDOM_SEED)\n",
    "n_obs_test = test['choice_id'].nunique()\n",
    "probs_test = probs_test.reshape((n_obs_test, 3))\n",
    "predicted_test = np.argmax(probs_test, axis=1) + 1\n",
    "\n",
    "# 3. True labels\n",
    "true_train = train[['choice_id', 'alt_id', 'chosen']].query('chosen==1')['alt_id'].values\n",
    "true_test = test[['choice_id', 'alt_id', 'chosen']].query('chosen==1')['alt_id'].values\n",
    "\n",
    "# 4. Compute metrics\n",
    "train_accuracy = accuracy_score(true_train, predicted_train)\n",
    "test_accuracy  = accuracy_score(true_test, predicted_test)\n",
    "f1 = f1_score(true_test, predicted_test, average='weighted')\n",
    "conf_matrix = confusion_matrix(true_test, predicted_test, labels=[1,2,3])\n",
    "\n",
    "# 5. Print nicely\n",
    "print(f\"Train Accuracy: {train_accuracy:.3f}\")\n",
    "print(f\"Test  Accuracy: {test_accuracy:.3f}\")\n",
    "print(f\"Weighted F1-score: {f1:.3f}\")\n",
    "print(\"\\nConfusion matrix (rows=true, cols=pred):\")\n",
    "print(conf_matrix)\n"
   ]
  },
  {
   "cell_type": "code",
   "execution_count": 29,
   "id": "06d08502",
   "metadata": {
    "execution": {
     "iopub.execute_input": "2025-04-27T05:34:03.523403Z",
     "iopub.status.busy": "2025-04-27T05:34:03.523144Z",
     "iopub.status.idle": "2025-04-27T05:36:05.678517Z",
     "shell.execute_reply": "2025-04-27T05:36:05.677786Z"
    },
    "papermill": {
     "duration": 122.164475,
     "end_time": "2025-04-27T05:36:05.679912",
     "exception": false,
     "start_time": "2025-04-27T05:34:03.515437",
     "status": "completed"
    },
    "tags": []
   },
   "outputs": [
    {
     "name": "stdout",
     "output_type": "stream",
     "text": [
      "Log-likelihood at zero: -4,860.2608\n",
      "Initial Log-likelihood: -4,860.2608\n"
     ]
    },
    {
     "name": "stderr",
     "output_type": "stream",
     "text": [
      "/usr/local/lib/python3.11/dist-packages/pylogit/estimation.py:678: RuntimeWarning: Method BFGS does not use Hessian information (hess).\n",
      "  results = minimize(estimator.calc_neg_log_likelihood_and_neg_gradient,\n"
     ]
    },
    {
     "name": "stdout",
     "output_type": "stream",
     "text": [
      "Estimation Time for Point Estimation: 1.81 minutes.\n",
      "Final log-likelihood: -4,526.5719\n",
      "                     Mixed Logit Model Regression Results                     \n",
      "==============================================================================\n",
      "Dep. Variable:                 chosen   No. Observations:                4,424\n",
      "Model:              Mixed Logit Model   Df Residuals:                    4,419\n",
      "Method:                           MLE   Df Model:                            5\n",
      "Date:                Sun, 27 Apr 2025   Pseudo R-squ.:                   0.069\n",
      "Time:                        05:36:05   Pseudo R-bar-squ.:               0.068\n",
      "AIC:                        9,063.144   Log-Likelihood:             -4,526.572\n",
      "BIC:                        9,095.118   LL-Null:                    -4,860.261\n",
      "=====================================================================================\n",
      "                        coef    std err          z      P>|z|      [0.025      0.975]\n",
      "-------------------------------------------------------------------------------------\n",
      "win_ratio_running   6.05e-14   1.54e+13   3.93e-27      1.000   -3.02e+13    3.02e+13\n",
      "exp_auctions       1.939e-12   1.29e+12    1.5e-24      1.000   -2.53e+12    2.53e+12\n",
      "ASC_sniper            0.7736      0.044     17.531      0.000       0.687       0.860\n",
      "ASC_jump              0.0661      0.043      1.524      0.128      -0.019       0.151\n",
      "Sigma ASC_sniper      0.4915      0.031     15.925      0.000       0.431       0.552\n",
      "=====================================================================================\n"
     ]
    },
    {
     "name": "stderr",
     "output_type": "stream",
     "text": [
      "/usr/local/lib/python3.11/dist-packages/pylogit/base_multinomial_cm_v2.py:1259: RuntimeWarning: invalid value encountered in sqrt\n",
      "  self._store_inferential_results(np.sqrt(np.diag(self.robust_cov)),\n",
      "/usr/local/lib/python3.11/dist-packages/scipy/stats/_distn_infrastructure.py:2215: RuntimeWarning: invalid value encountered in less_equal\n",
      "  cond2 = cond0 & (x <= _a)\n"
     ]
    }
   ],
   "source": [
    "import pylogit as pl\n",
    "import numpy as np\n",
    "import pandas as pd\n",
    "from sklearn.model_selection import train_test_split\n",
    "from sklearn.metrics import accuracy_score, f1_score, confusion_matrix\n",
    "\n",
    "# 0. Load your clean dataset\n",
    "df = pd.read_csv('/kaggle/working/step5_long_format.csv')\n",
    "\n",
    "alt_map = {'sniper': 1, 'jump_bidder': 2, 'incrementalist': 3}\n",
    "df['alt_id'] = df['alt'].map(alt_map)\n",
    "\n",
    "# Dummy ASCs (create *before* any splitting so they exist everywhere)\n",
    "df['ASC_sniper'] = (df['alt_id'] == 1).astype(int)\n",
    "df['ASC_jump']   = (df['alt_id'] == 2).astype(int)\n",
    "# (incrementalist is base → no dummy)\n",
    "# 1. Sort properly (important for mixed logit)\n",
    "df = df.sort_values(by=['choice_id', 'alt_id'])\n",
    "\n",
    "# # 2. Split into train-test\n",
    "# train, test = train_test_split(df, test_size=0.3, random_state=42, stratify=df['choice_id'])\n",
    "\n",
    "# 2. ─────────────── Train / test split (whole auctions) ──────────────\n",
    "gss = GroupShuffleSplit(test_size=0.30, n_splits=1, random_state=RANDOM_SEED)\n",
    "train_idx, test_idx = next(gss.split(df, groups=df['choice_id']))\n",
    "train, test = df.iloc[train_idx].copy(), df.iloc[test_idx].copy()\n",
    "\n",
    "# Keep entire choice sets contiguous\n",
    "train = train.sort_values(['choice_id','alt_id']).reset_index(drop=True)\n",
    "test  = test.sort_values(['choice_id','alt_id']).reset_index(drop=True)\n",
    "\n",
    "\n",
    "# 3. Create MMNL specification\n",
    "specification = OrderedDict({\n",
    "    'win_ratio_running': 'all_same',    # bidder-specific\n",
    "    'exp_auctions': 'all_same',          # bidder-specific\n",
    "    'ASC_sniper': 'all_same',            # manually created dummy\n",
    "    'ASC_jump': 'all_same' \n",
    "})\n",
    "\n",
    "names = OrderedDict({\n",
    "    'win_ratio_running': 'win_ratio_running',\n",
    "    'exp_auctions': 'exp_auctions',\n",
    "    'ASC_sniper': 'ASC_sniper',\n",
    "    'ASC_jump': 'ASC_jump'\n",
    "})\n",
    "\n",
    "# 4. Build the Mixed Logit Model\n",
    "model = pl.create_choice_model(\n",
    "    data=train,\n",
    "    alt_id_col='alt_id',\n",
    "    obs_id_col='choice_id',\n",
    "    choice_col='chosen',\n",
    "    specification=specification,\n",
    "    model_type=\"Mixed Logit\",\n",
    "    names=names,\n",
    "    mixing_id_col='chooser_id',\n",
    "    mixing_vars={'ASC_sniper': 'n'}  # Random only on ASC_sniper\n",
    ")\n",
    "\n",
    "# 5. Estimate the model\n",
    "DRAWS = 2000\n",
    "RANDOM_SEED = 42\n",
    "init_vals = np.zeros(5)  # 4 coefficients + 1 random sigma + 1 more if needed\n",
    "\n",
    "model.fit_mle(\n",
    "    init_vals=init_vals,\n",
    "    num_draws=DRAWS,\n",
    "    seed=RANDOM_SEED,\n",
    "    constrained_pos=None,\n",
    "    print_res=True,\n",
    "    just_point=False\n",
    ")\n",
    "\n",
    "# 6. See the model summary\n",
    "print(model.get_statsmodels_summary())\n"
   ]
  },
  {
   "cell_type": "code",
   "execution_count": 30,
   "id": "dfb51ce3",
   "metadata": {
    "execution": {
     "iopub.execute_input": "2025-04-27T05:36:05.695771Z",
     "iopub.status.busy": "2025-04-27T05:36:05.695547Z",
     "iopub.status.idle": "2025-04-27T05:36:09.521274Z",
     "shell.execute_reply": "2025-04-27T05:36:09.520411Z"
    },
    "papermill": {
     "duration": 3.835047,
     "end_time": "2025-04-27T05:36:09.522643",
     "exception": false,
     "start_time": "2025-04-27T05:36:05.687596",
     "status": "completed"
    },
    "tags": []
   },
   "outputs": [
    {
     "name": "stdout",
     "output_type": "stream",
     "text": [
      "Train Accuracy: 0.514\n",
      "Test  Accuracy: 0.510\n",
      "Weighted F1-score: 0.345\n",
      "\n",
      "Confusion matrix (rows=true, cols=pred):\n",
      "[[968   0   0]\n",
      " [476   0   0]\n",
      " [453   0   0]]\n"
     ]
    }
   ],
   "source": [
    "from sklearn.metrics import accuracy_score, f1_score, confusion_matrix\n",
    "import numpy as np\n",
    "\n",
    "# 1. Predict on train\n",
    "probs_train = model.predict(data=train, num_draws=DRAWS, seed=RANDOM_SEED)\n",
    "n_obs_train = train['choice_id'].nunique()\n",
    "probs_train = probs_train.reshape((n_obs_train, 3))\n",
    "predicted_train = np.argmax(probs_train, axis=1) + 1\n",
    "\n",
    "# 2. Predict on test\n",
    "probs_test = model.predict(data=test, num_draws=DRAWS, seed=RANDOM_SEED)\n",
    "n_obs_test = test['choice_id'].nunique()\n",
    "probs_test = probs_test.reshape((n_obs_test, 3))\n",
    "predicted_test = np.argmax(probs_test, axis=1) + 1\n",
    "\n",
    "# 3. True labels\n",
    "true_train = train[['choice_id', 'alt_id', 'chosen']].query('chosen==1')['alt_id'].values\n",
    "true_test = test[['choice_id', 'alt_id', 'chosen']].query('chosen==1')['alt_id'].values\n",
    "\n",
    "# 4. Compute metrics\n",
    "train_accuracy = accuracy_score(true_train, predicted_train)\n",
    "test_accuracy  = accuracy_score(true_test, predicted_test)\n",
    "f1 = f1_score(true_test, predicted_test, average='weighted')\n",
    "conf_matrix = confusion_matrix(true_test, predicted_test, labels=[1,2,3])\n",
    "\n",
    "# 5. Print nicely\n",
    "print(f\"Train Accuracy: {train_accuracy:.3f}\")\n",
    "print(f\"Test  Accuracy: {test_accuracy:.3f}\")\n",
    "print(f\"Weighted F1-score: {f1:.3f}\")\n",
    "print(\"\\nConfusion matrix (rows=true, cols=pred):\")\n",
    "print(conf_matrix)\n"
   ]
  },
  {
   "cell_type": "markdown",
   "id": "ef1db8d9",
   "metadata": {
    "papermill": {
     "duration": 0.007072,
     "end_time": "2025-04-27T05:36:09.537350",
     "exception": false,
     "start_time": "2025-04-27T05:36:09.530278",
     "status": "completed"
    },
    "tags": []
   },
   "source": [
    "# Latent Class Model"
   ]
  },
  {
   "cell_type": "code",
   "execution_count": 31,
   "id": "466bf421",
   "metadata": {
    "execution": {
     "iopub.execute_input": "2025-04-27T05:36:09.552686Z",
     "iopub.status.busy": "2025-04-27T05:36:09.552261Z",
     "iopub.status.idle": "2025-04-27T05:36:09.574837Z",
     "shell.execute_reply": "2025-04-27T05:36:09.574310Z"
    },
    "papermill": {
     "duration": 0.031307,
     "end_time": "2025-04-27T05:36:09.575860",
     "exception": false,
     "start_time": "2025-04-27T05:36:09.544553",
     "status": "completed"
    },
    "tags": []
   },
   "outputs": [],
   "source": [
    "import pandas as pd\n",
    "\n",
    "# Load your data\n",
    "df = pd.read_csv('/kaggle/working/step5_long_format.csv')\n",
    "\n",
    "\n"
   ]
  },
  {
   "cell_type": "code",
   "execution_count": 32,
   "id": "1a2a4ead",
   "metadata": {
    "execution": {
     "iopub.execute_input": "2025-04-27T05:36:09.591127Z",
     "iopub.status.busy": "2025-04-27T05:36:09.590946Z",
     "iopub.status.idle": "2025-04-27T05:36:09.595376Z",
     "shell.execute_reply": "2025-04-27T05:36:09.594884Z"
    },
    "papermill": {
     "duration": 0.013024,
     "end_time": "2025-04-27T05:36:09.596323",
     "exception": false,
     "start_time": "2025-04-27T05:36:09.583299",
     "status": "completed"
    },
    "tags": []
   },
   "outputs": [],
   "source": [
    "# Example: Keep only numeric columns for LCM\n",
    "X = df.select_dtypes(include=['float64', 'int64']).copy()\n",
    "\n",
    "# Fill missing values if necessary\n",
    "X = X.fillna(0)\n"
   ]
  },
  {
   "cell_type": "code",
   "execution_count": 33,
   "id": "ace9552f",
   "metadata": {
    "execution": {
     "iopub.execute_input": "2025-04-27T05:36:09.611602Z",
     "iopub.status.busy": "2025-04-27T05:36:09.611388Z",
     "iopub.status.idle": "2025-04-27T05:36:10.656640Z",
     "shell.execute_reply": "2025-04-27T05:36:10.653573Z"
    },
    "papermill": {
     "duration": 1.055777,
     "end_time": "2025-04-27T05:36:10.659421",
     "exception": false,
     "start_time": "2025-04-27T05:36:09.603644",
     "status": "completed"
    },
    "tags": []
   },
   "outputs": [],
   "source": [
    "from sklearn.mixture import GaussianMixture\n",
    "\n",
    "# Set number of latent classes\n",
    "K = 3\n",
    "\n",
    "# Initialize the model\n",
    "gmm = GaussianMixture(n_components=K, covariance_type='full', random_state=42)\n",
    "\n",
    "# Fit the model\n",
    "gmm.fit(X)\n",
    "\n",
    "# Predict the latent class for each bidder\n",
    "latent_classes = gmm.predict(X)\n",
    "\n",
    "# Add the predicted class to your dataframe\n",
    "df['predicted_class'] = latent_classes\n"
   ]
  },
  {
   "cell_type": "code",
   "execution_count": 34,
   "id": "41f6ecfd",
   "metadata": {
    "execution": {
     "iopub.execute_input": "2025-04-27T05:36:10.687910Z",
     "iopub.status.busy": "2025-04-27T05:36:10.686895Z",
     "iopub.status.idle": "2025-04-27T05:36:10.708414Z",
     "shell.execute_reply": "2025-04-27T05:36:10.707861Z"
    },
    "papermill": {
     "duration": 0.03608,
     "end_time": "2025-04-27T05:36:10.709924",
     "exception": false,
     "start_time": "2025-04-27T05:36:10.673844",
     "status": "completed"
    },
    "tags": []
   },
   "outputs": [
    {
     "data": {
      "text/html": [
       "<div>\n",
       "<style scoped>\n",
       "    .dataframe tbody tr th:only-of-type {\n",
       "        vertical-align: middle;\n",
       "    }\n",
       "\n",
       "    .dataframe tbody tr th {\n",
       "        vertical-align: top;\n",
       "    }\n",
       "\n",
       "    .dataframe thead th {\n",
       "        text-align: right;\n",
       "    }\n",
       "</style>\n",
       "<table border=\"1\" class=\"dataframe\">\n",
       "  <thead>\n",
       "    <tr style=\"text-align: right;\">\n",
       "      <th></th>\n",
       "      <th>choice_id</th>\n",
       "      <th>chosen</th>\n",
       "      <th>time_from_start_sec</th>\n",
       "      <th>time_to_close_sec</th>\n",
       "      <th>burstiness_rate</th>\n",
       "      <th>bid_count_share</th>\n",
       "      <th>win_ratio_running</th>\n",
       "      <th>exp_auctions</th>\n",
       "      <th>predicted_class</th>\n",
       "    </tr>\n",
       "    <tr>\n",
       "      <th>predicted_class</th>\n",
       "      <th></th>\n",
       "      <th></th>\n",
       "      <th></th>\n",
       "      <th></th>\n",
       "      <th></th>\n",
       "      <th></th>\n",
       "      <th></th>\n",
       "      <th></th>\n",
       "      <th></th>\n",
       "    </tr>\n",
       "  </thead>\n",
       "  <tbody>\n",
       "    <tr>\n",
       "      <th>0</th>\n",
       "      <td>10148.315217</td>\n",
       "      <td>0.333333</td>\n",
       "      <td>216656.336957</td>\n",
       "      <td>174962.318839</td>\n",
       "      <td>0.369565</td>\n",
       "      <td>0.171183</td>\n",
       "      <td>0.352275</td>\n",
       "      <td>41.967391</td>\n",
       "      <td>0.0</td>\n",
       "    </tr>\n",
       "    <tr>\n",
       "      <th>1</th>\n",
       "      <td>7482.998448</td>\n",
       "      <td>0.333333</td>\n",
       "      <td>171816.583527</td>\n",
       "      <td>217302.076429</td>\n",
       "      <td>0.000000</td>\n",
       "      <td>0.086063</td>\n",
       "      <td>0.282134</td>\n",
       "      <td>6.840931</td>\n",
       "      <td>1.0</td>\n",
       "    </tr>\n",
       "    <tr>\n",
       "      <th>2</th>\n",
       "      <td>7031.669663</td>\n",
       "      <td>0.333333</td>\n",
       "      <td>163820.498500</td>\n",
       "      <td>200944.657123</td>\n",
       "      <td>0.622472</td>\n",
       "      <td>0.355169</td>\n",
       "      <td>0.868317</td>\n",
       "      <td>5.459551</td>\n",
       "      <td>2.0</td>\n",
       "    </tr>\n",
       "  </tbody>\n",
       "</table>\n",
       "</div>"
      ],
      "text/plain": [
       "                    choice_id    chosen  time_from_start_sec  \\\n",
       "predicted_class                                                \n",
       "0                10148.315217  0.333333        216656.336957   \n",
       "1                 7482.998448  0.333333        171816.583527   \n",
       "2                 7031.669663  0.333333        163820.498500   \n",
       "\n",
       "                 time_to_close_sec  burstiness_rate  bid_count_share  \\\n",
       "predicted_class                                                        \n",
       "0                    174962.318839         0.369565         0.171183   \n",
       "1                    217302.076429         0.000000         0.086063   \n",
       "2                    200944.657123         0.622472         0.355169   \n",
       "\n",
       "                 win_ratio_running  exp_auctions  predicted_class  \n",
       "predicted_class                                                    \n",
       "0                         0.352275     41.967391              0.0  \n",
       "1                         0.282134      6.840931              1.0  \n",
       "2                         0.868317      5.459551              2.0  "
      ]
     },
     "execution_count": 34,
     "metadata": {},
     "output_type": "execute_result"
    }
   ],
   "source": [
    "# Select only numeric columns\n",
    "numeric_cols = df.select_dtypes(include=['float64', 'int64']).columns\n",
    "\n",
    "# Group by predicted class and take mean only on numeric columns\n",
    "df.groupby('predicted_class')[numeric_cols].mean()\n"
   ]
  },
  {
   "cell_type": "code",
   "execution_count": 35,
   "id": "d039b18a",
   "metadata": {
    "execution": {
     "iopub.execute_input": "2025-04-27T05:36:10.731467Z",
     "iopub.status.busy": "2025-04-27T05:36:10.731073Z",
     "iopub.status.idle": "2025-04-27T05:36:10.735649Z",
     "shell.execute_reply": "2025-04-27T05:36:10.734996Z"
    },
    "papermill": {
     "duration": 0.014023,
     "end_time": "2025-04-27T05:36:10.736729",
     "exception": false,
     "start_time": "2025-04-27T05:36:10.722706",
     "status": "completed"
    },
    "tags": []
   },
   "outputs": [],
   "source": [
    "behavior_mapping = {\n",
    "    0: 'Sniper',         # suppose 0 behaves like snipers\n",
    "    1: 'Incrementalist', # suppose 1 behaves like incrementalists\n",
    "    2: 'Jump Bidder'     # suppose 2 behaves like jump bidders\n",
    "}\n",
    "\n",
    "df['predicted_behavior'] = df['predicted_class'].map(behavior_mapping)\n"
   ]
  },
  {
   "cell_type": "markdown",
   "id": "4c2f55a7",
   "metadata": {
    "papermill": {
     "duration": 0.00724,
     "end_time": "2025-04-27T05:36:10.751677",
     "exception": false,
     "start_time": "2025-04-27T05:36:10.744437",
     "status": "completed"
    },
    "tags": []
   },
   "source": [
    "### Evalaution of LCM"
   ]
  },
  {
   "cell_type": "code",
   "execution_count": 36,
   "id": "8f4706b6",
   "metadata": {
    "execution": {
     "iopub.execute_input": "2025-04-27T05:36:10.767560Z",
     "iopub.status.busy": "2025-04-27T05:36:10.767329Z",
     "iopub.status.idle": "2025-04-27T05:36:11.306561Z",
     "shell.execute_reply": "2025-04-27T05:36:11.305973Z"
    },
    "papermill": {
     "duration": 0.551084,
     "end_time": "2025-04-27T05:36:11.310219",
     "exception": false,
     "start_time": "2025-04-27T05:36:10.759135",
     "status": "completed"
    },
    "tags": []
   },
   "outputs": [
    {
     "name": "stdout",
     "output_type": "stream",
     "text": [
      "Train BIC: 1077708.6893672706\n",
      "Test BIC: 270918.29938348883\n"
     ]
    }
   ],
   "source": [
    "from sklearn.model_selection import train_test_split\n",
    "\n",
    "X_train, X_test = train_test_split(X, test_size=0.2, random_state=42)\n",
    "\n",
    "gmm = GaussianMixture(n_components=3, random_state=42)\n",
    "gmm.fit(X_train)\n",
    "\n",
    "train_preds = gmm.predict(X_train)\n",
    "test_preds = gmm.predict(X_test)\n",
    "\n",
    "print(f\"Train BIC: {gmm.bic(X_train)}\")\n",
    "print(f\"Test BIC: {gmm.bic(X_test)}\")\n"
   ]
  },
  {
   "cell_type": "code",
   "execution_count": 37,
   "id": "2f8f60d3",
   "metadata": {
    "execution": {
     "iopub.execute_input": "2025-04-27T05:36:11.340099Z",
     "iopub.status.busy": "2025-04-27T05:36:11.339678Z",
     "iopub.status.idle": "2025-04-27T05:36:11.345933Z",
     "shell.execute_reply": "2025-04-27T05:36:11.345323Z"
    },
    "papermill": {
     "duration": 0.020831,
     "end_time": "2025-04-27T05:36:11.347050",
     "exception": false,
     "start_time": "2025-04-27T05:36:11.326219",
     "status": "completed"
    },
    "tags": []
   },
   "outputs": [
    {
     "name": "stdout",
     "output_type": "stream",
     "text": [
      "[1.31839156e-04 6.59195781e-05 6.59195781e-05 ... 6.59195781e-05\n",
      " 6.59195781e-05 6.59195781e-05] [0.         0.00026364 0.         ... 0.00026364 0.00026364 0.00026364]\n"
     ]
    }
   ],
   "source": [
    "train_bic_per_sample = train_preds / len(X_train)\n",
    "test_bic_per_sample = test_preds / len(X_test)\n",
    "\n",
    "print(train_bic_per_sample, test_bic_per_sample)"
   ]
  },
  {
   "cell_type": "code",
   "execution_count": null,
   "id": "3b393a23",
   "metadata": {
    "papermill": {
     "duration": 0.012489,
     "end_time": "2025-04-27T05:36:11.372959",
     "exception": false,
     "start_time": "2025-04-27T05:36:11.360470",
     "status": "completed"
    },
    "tags": []
   },
   "outputs": [],
   "source": []
  }
 ],
 "metadata": {
  "kaggle": {
   "accelerator": "nvidiaTeslaT4",
   "dataSources": [
    {
     "datasetId": 7176981,
     "sourceId": 11454398,
     "sourceType": "datasetVersion"
    }
   ],
   "dockerImageVersionId": 31011,
   "isGpuEnabled": true,
   "isInternetEnabled": true,
   "language": "python",
   "sourceType": "notebook"
  },
  "kernelspec": {
   "display_name": "Python 3",
   "language": "python",
   "name": "python3"
  },
  "language_info": {
   "codemirror_mode": {
    "name": "ipython",
    "version": 3
   },
   "file_extension": ".py",
   "mimetype": "text/x-python",
   "name": "python",
   "nbconvert_exporter": "python",
   "pygments_lexer": "ipython3",
   "version": "3.11.11"
  },
  "papermill": {
   "default_parameters": {},
   "duration": 289.531748,
   "end_time": "2025-04-27T05:36:12.003776",
   "environment_variables": {},
   "exception": null,
   "input_path": "__notebook__.ipynb",
   "output_path": "__notebook__.ipynb",
   "parameters": {},
   "start_time": "2025-04-27T05:31:22.472028",
   "version": "2.6.0"
  }
 },
 "nbformat": 4,
 "nbformat_minor": 5
}
